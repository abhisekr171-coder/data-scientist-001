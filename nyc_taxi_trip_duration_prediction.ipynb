{
 "cells": [
  {
   "cell_type": "markdown",
   "id": "9c103ded",
   "metadata": {},
   "source": [
    "# NYC Taxi Trip Duration Prediction"
   ]
  },
  {
   "cell_type": "code",
   "execution_count": null,
   "id": "c619b1fd",
   "metadata": {},
   "outputs": [],
   "source": [
    "# 📦 Import Libraries\n",
    "import pandas as pd\n",
    "import numpy as np\n",
    "import matplotlib.pyplot as plt\n",
    "import seaborn as sns\n",
    "from sklearn.model_selection import train_test_split\n",
    "from sklearn.linear_model import LinearRegression\n",
    "from sklearn.metrics import mean_squared_error, mean_absolute_error\n",
    "from xgboost import XGBRegressor\n",
    "from math import radians, cos, sin, asin, sqrt\n"
   ]
  },
  {
   "cell_type": "code",
   "execution_count": null,
   "id": "bd5f7dee",
   "metadata": {},
   "outputs": [],
   "source": [
    "# 📥 Load Dataset\n",
    "# (Download from https://www.kaggle.com/competitions/nyc-taxi-trip-duration/data)\n",
    "df = pd.read_csv('train.csv', nrows=50000)  # limit rows for performance\n",
    "print(df.shape)\n",
    "df.head()\n"
   ]
  },
  {
   "cell_type": "code",
   "execution_count": null,
   "id": "47243464",
   "metadata": {},
   "outputs": [],
   "source": [
    "# 🧼 Data Cleaning\n",
    "df = df.dropna()\n",
    "df['pickup_datetime'] = pd.to_datetime(df['pickup_datetime'])\n",
    "df['dropoff_datetime'] = pd.to_datetime(df['dropoff_datetime'])\n",
    "\n",
    "# Remove outliers in trip duration\n",
    "df = df[(df['trip_duration'] > 60) & (df['trip_duration'] < 7200)]\n"
   ]
  },
  {
   "cell_type": "code",
   "execution_count": null,
   "id": "ed15ddae",
   "metadata": {},
   "outputs": [],
   "source": [
    "# 🧪 Feature Engineering\n",
    "df['pickup_hour'] = df['pickup_datetime'].dt.hour\n",
    "df['pickup_day'] = df['pickup_datetime'].dt.dayofweek\n",
    "\n",
    "# Haversine distance function\n",
    "def haversine(lat1, lon1, lat2, lon2):\n",
    "    R = 6371  # Earth radius in km\n",
    "    lat1, lon1, lat2, lon2 = map(radians, [lat1, lon1, lat2, lon2])\n",
    "    dlat = lat2 - lat1\n",
    "    dlon = lon2 - lon1\n",
    "    a = sin(dlat / 2)**2 + cos(lat1) * cos(lat2) * sin(dlon / 2)**2\n",
    "    return R * 2 * asin(sqrt(a))\n",
    "\n",
    "df['distance_km'] = df.apply(lambda row: haversine(\n",
    "    row['pickup_latitude'], row['pickup_longitude'],\n",
    "    row['dropoff_latitude'], row['dropoff_longitude']), axis=1)\n"
   ]
  },
  {
   "cell_type": "code",
   "execution_count": null,
   "id": "ed03550a",
   "metadata": {},
   "outputs": [],
   "source": [
    "# 🎨 EDA\n",
    "sns.histplot(df['trip_duration'] / 60, bins=50, kde=True)\n",
    "plt.title(\"Trip Duration (minutes)\")\n",
    "plt.show()\n",
    "\n",
    "sns.scatterplot(x='distance_km', y='trip_duration', data=df)\n",
    "plt.title(\"Trip Duration vs Distance\")\n",
    "plt.show()\n"
   ]
  },
  {
   "cell_type": "code",
   "execution_count": null,
   "id": "61e5285c",
   "metadata": {},
   "outputs": [],
   "source": [
    "# 🧠 Modeling - Linear Regression & XGBoost\n",
    "features = ['passenger_count', 'pickup_hour', 'pickup_day', 'distance_km']\n",
    "X = df[features]\n",
    "y = df['trip_duration']\n",
    "\n",
    "X_train, X_test, y_train, y_test = train_test_split(X, y, test_size=0.2, random_state=42)\n",
    "\n",
    "# 🔹 Linear Regression\n",
    "lr = LinearRegression()\n",
    "lr.fit(X_train, y_train)\n",
    "y_pred_lr = lr.predict(X_test)\n",
    "\n",
    "# 🔹 XGBoost\n",
    "xgb = XGBRegressor(n_estimators=100, max_depth=5, learning_rate=0.1)\n",
    "xgb.fit(X_train, y_train)\n",
    "y_pred_xgb = xgb.predict(X_test)\n"
   ]
  },
  {
   "cell_type": "code",
   "execution_count": null,
   "id": "7eb980e7",
   "metadata": {},
   "outputs": [],
   "source": [
    "# 📊 Evaluation\n",
    "def print_metrics(y_true, y_pred, model_name):\n",
    "    print(f\"{model_name} Results:\")\n",
    "    print(\"MAE:\", mean_absolute_error(y_true, y_pred))\n",
    "    print(\"RMSE:\", np.sqrt(mean_squared_error(y_true, y_pred)))\n",
    "    print(\"-\" * 30)\n",
    "\n",
    "print_metrics(y_test, y_pred_lr, \"Linear Regression\")\n",
    "print_metrics(y_test, y_pred_xgb, \"XGBoost\")\n"
   ]
  }
 ],
 "metadata": {},
 "nbformat": 4,
 "nbformat_minor": 5
}
